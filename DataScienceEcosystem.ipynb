{
 "cells": [
  {
   "cell_type": "markdown",
   "id": "15cb8c83-85cb-4f93-9154-361054fa1603",
   "metadata": {},
   "source": [
    "# Data Science Tools and Ecosystem"
   ]
  },
  {
   "cell_type": "markdown",
   "id": "98c8b863-75ea-4232-a99e-501a58b42141",
   "metadata": {},
   "source": [
    "#### In this notebook, Data Science Tools and Ecosystem are summarized."
   ]
  },
  {
   "cell_type": "markdown",
   "id": "9dc102d1-5829-4d1a-be89-b4b8cbfb2eef",
   "metadata": {},
   "source": [
    "**Objectives :**\n",
    "- List popular languages for Data Science\n",
    "- List commonly used libraries\n",
    "- Show examples of expressions in Python"
   ]
  },
  {
   "cell_type": "markdown",
   "id": "c768ddc4-6990-429d-89bf-b5ba2f1fdd60",
   "metadata": {},
   "source": [
    "Some of the popular languages that Data Scientists use are :\n",
    "1. Python\n",
    "2. R\n",
    "3. SQL\n",
    "4. Java"
   ]
  },
  {
   "cell_type": "markdown",
   "id": "29bbeae4-9664-40d4-8496-fef1dc4b6cbe",
   "metadata": {},
   "source": [
    "Some of the commonly used libraries used by Data Scientists include :\n",
    "1. NumPy\n",
    "2. Pandas\n",
    "3. Matplotlib\n",
    "4. Seaborn"
   ]
  },
  {
   "cell_type": "markdown",
   "id": "e049acdf-1cb8-45ae-a42e-2b158210ef49",
   "metadata": {},
   "source": [
    "| Data Science Tools    |\n",
    "|-----------------------|\n",
    "| Jupyter Notebook      |\n",
    "| RStudio               |\n",
    "| Apache Zeppelin       |"
   ]
  },
  {
   "cell_type": "markdown",
   "id": "e7f2de26-1ef8-49d5-9c3b-a735b55e3e2e",
   "metadata": {},
   "source": [
    "### Below are a few examples of evaluating arithmetic expressions in Python : \n"
   ]
  },
  {
   "cell_type": "code",
   "execution_count": 21,
   "id": "e10e4e69-69fb-4345-923d-3621b62b499e",
   "metadata": {},
   "outputs": [
    {
     "data": {
      "text/plain": [
       "17"
      ]
     },
     "execution_count": 21,
     "metadata": {},
     "output_type": "execute_result"
    }
   ],
   "source": [
    "# This is a simple arithmetic expression to multiply then add integers\n",
    "(3 * 4) + 5"
   ]
  },
  {
   "cell_type": "code",
   "execution_count": 25,
   "id": "7537be3f-a2ba-4fcf-af6e-ea2d35480b93",
   "metadata": {},
   "outputs": [
    {
     "data": {
      "text/plain": [
       "3.3333333333333335"
      ]
     },
     "execution_count": 25,
     "metadata": {},
     "output_type": "execute_result"
    }
   ],
   "source": [
    "# This will convert 200 minutes to hours by diving by 60\n",
    "200/60"
   ]
  },
  {
   "cell_type": "markdown",
   "id": "6df29f0c-553d-4bb6-b42e-66a95b9346c2",
   "metadata": {},
   "source": [
    "## Author\n",
    "Lina IDRISSI"
   ]
  },
  {
   "cell_type": "code",
   "execution_count": null,
   "id": "871f5b91-80b5-439c-a6e9-698b841a4420",
   "metadata": {},
   "outputs": [],
   "source": []
  }
 ],
 "metadata": {
  "kernelspec": {
   "display_name": "Python 3 (ipykernel)",
   "language": "python",
   "name": "python3"
  },
  "language_info": {
   "codemirror_mode": {
    "name": "ipython",
    "version": 3
   },
   "file_extension": ".py",
   "mimetype": "text/x-python",
   "name": "python",
   "nbconvert_exporter": "python",
   "pygments_lexer": "ipython3",
   "version": "3.12.4"
  }
 },
 "nbformat": 4,
 "nbformat_minor": 5
}
